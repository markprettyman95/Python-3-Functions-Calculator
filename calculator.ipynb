{
 "cells": [
  {
   "cell_type": "code",
   "execution_count": null,
   "id": "7661e25b",
   "metadata": {},
   "outputs": [],
   "source": [
    "def add(num1, num2):\n",
    "    return num1 + num2"
   ]
  },
  {
   "cell_type": "code",
   "execution_count": null,
   "id": "3a5e2fbd",
   "metadata": {},
   "outputs": [],
   "source": [
    "def subtract(num1, num2):\n",
    "    return num1 - num2"
   ]
  },
  {
   "cell_type": "code",
   "execution_count": null,
   "id": "53e58548",
   "metadata": {},
   "outputs": [],
   "source": [
    "def multiply(num1, num2):\n",
    "    return num1 * num2"
   ]
  },
  {
   "cell_type": "code",
   "execution_count": null,
   "id": "9dece2d6",
   "metadata": {},
   "outputs": [],
   "source": [
    "def divide(num1, num2):\n",
    "    return num1 / num2"
   ]
  },
  {
   "cell_type": "code",
   "execution_count": null,
   "id": "12d9d498",
   "metadata": {},
   "outputs": [],
   "source": [
    "user_menu = 'Please select an operation \\n 1. Add \\n 2. Subtract \\n 3. Multiply \\n 4. Divide'\n",
    "print(user_menu)\n",
    "\n",
    "select_operation = input('Select operations from 1, 2, 3, 4 :') \n",
    "\n",
    "\n",
    "number_1 = int(input('Enter first number:'))\n",
    "number_2 = int(input('Enter second number:'))\n",
    "\n",
    "\n",
    "if select_operation == '1':\n",
    "    print(number_1, '+', number_2, '=',\n",
    "                      add(number_1, number_2))\n",
    "\n",
    "elif select_operation == '2':\n",
    "    print(number_1, '-', number_2, '=',\n",
    "                      subtract(number_1, number_2))\n",
    "    \n",
    "elif select_operation == '3':\n",
    "    print(number_1, 'X', number_2, '=',\n",
    "                      multiply(number_1, number_2))\n",
    "    \n",
    "elif select_operation == '4':\n",
    "    print(number_1, '/', number_2, '=',\n",
    "                      divide(number_1, number_2))\n",
    "    \n",
    "else:\n",
    "    print('INVALID INPUT')\n",
    "    "
   ]
  },
  {
   "cell_type": "code",
   "execution_count": null,
   "id": "7e34255f",
   "metadata": {},
   "outputs": [],
   "source": []
  },
  {
   "cell_type": "code",
   "execution_count": null,
   "id": "930eed3d",
   "metadata": {},
   "outputs": [],
   "source": []
  },
  {
   "cell_type": "code",
   "execution_count": null,
   "id": "6b5e8ac4",
   "metadata": {},
   "outputs": [],
   "source": []
  },
  {
   "cell_type": "code",
   "execution_count": null,
   "id": "91ce671b",
   "metadata": {},
   "outputs": [],
   "source": []
  },
  {
   "cell_type": "code",
   "execution_count": null,
   "id": "fcac351b",
   "metadata": {},
   "outputs": [],
   "source": []
  },
  {
   "cell_type": "code",
   "execution_count": null,
   "id": "4ee6f597",
   "metadata": {},
   "outputs": [],
   "source": []
  }
 ],
 "metadata": {
  "kernelspec": {
   "display_name": "Python 3",
   "language": "python",
   "name": "python3"
  },
  "language_info": {
   "codemirror_mode": {
    "name": "ipython",
    "version": 3
   },
   "file_extension": ".py",
   "mimetype": "text/x-python",
   "name": "python",
   "nbconvert_exporter": "python",
   "pygments_lexer": "ipython3",
   "version": "3.9.5"
  }
 },
 "nbformat": 4,
 "nbformat_minor": 5
}
